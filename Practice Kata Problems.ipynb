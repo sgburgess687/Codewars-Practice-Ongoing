{
 "cells": [
  {
   "cell_type": "markdown",
   "metadata": {},
   "source": [
    "### Ongoing Notebook for Practicing Codewars Problems\n",
    "This notebook is for holding Codewars practice problems, solutions, and scratchwork. I intend to document my problems here in order to retain the logic from problem to problem. In the beginning, these will mostly be low-ranked kata problems, but I intend to increase the difficulty over time."
   ]
  },
  {
   "cell_type": "code",
   "execution_count": 1,
   "metadata": {},
   "outputs": [],
   "source": [
    "##########"
   ]
  },
  {
   "cell_type": "markdown",
   "metadata": {},
   "source": [
    "#### Disemvowel Trolls"
   ]
  },
  {
   "cell_type": "code",
   "execution_count": 2,
   "metadata": {},
   "outputs": [],
   "source": [
    "# write a function that takes in a string and returns a new string with no vowels"
   ]
  },
  {
   "cell_type": "code",
   "execution_count": 3,
   "metadata": {},
   "outputs": [],
   "source": [
    "def disemvowel(s):\n",
    "    n_string = \"\"\n",
    "    vowels = ['a','e','i','o','u','A','E','I','O','U']\n",
    "    for let in s:\n",
    "        if let not in vowels:\n",
    "            n_string = n_string + let\n",
    "    return n_string\n",
    "    "
   ]
  },
  {
   "cell_type": "code",
   "execution_count": 4,
   "metadata": {},
   "outputs": [],
   "source": [
    "s = \"This website is for losers LOL!\""
   ]
  },
  {
   "cell_type": "code",
   "execution_count": 5,
   "metadata": {},
   "outputs": [
    {
     "data": {
      "text/plain": [
       "'Ths wbst s fr lsrs LL!'"
      ]
     },
     "execution_count": 5,
     "metadata": {},
     "output_type": "execute_result"
    }
   ],
   "source": [
    "disemvowel(s)"
   ]
  },
  {
   "cell_type": "code",
   "execution_count": 6,
   "metadata": {},
   "outputs": [],
   "source": [
    "# cleaner solution\n",
    "def disemvowel(string):\n",
    "    return \"\".join(c for c in string if c.lower() not in \"aeiou\")\n"
   ]
  },
  {
   "cell_type": "markdown",
   "metadata": {},
   "source": [
    "#### Mumbling"
   ]
  },
  {
   "cell_type": "code",
   "execution_count": 7,
   "metadata": {},
   "outputs": [],
   "source": [
    "# write the function accum below"
   ]
  },
  {
   "cell_type": "code",
   "execution_count": 8,
   "metadata": {
    "scrolled": true
   },
   "outputs": [
    {
     "data": {
      "text/plain": [
       "'\\naccum(\"abcd\") -> \"A-Bb-Ccc-Dddd\"\\naccum(\"RqaEzty\") -> \"R-Qq-Aaa-Eeee-Zzzzz-Tttttt-Yyyyyyy\"\\naccum(\"cwAt\") -> \"C-Ww-Aaa-Tttt\"\\n'"
      ]
     },
     "execution_count": 8,
     "metadata": {},
     "output_type": "execute_result"
    }
   ],
   "source": [
    "'''\n",
    "accum(\"abcd\") -> \"A-Bb-Ccc-Dddd\"\n",
    "accum(\"RqaEzty\") -> \"R-Qq-Aaa-Eeee-Zzzzz-Tttttt-Yyyyyyy\"\n",
    "accum(\"cwAt\") -> \"C-Ww-Aaa-Tttt\"\n",
    "'''"
   ]
  },
  {
   "cell_type": "code",
   "execution_count": 9,
   "metadata": {},
   "outputs": [],
   "source": [
    "def accum(s):\n",
    "    start_var = []\n",
    "    my_iter = iter(range(1,len(s)+1))\n",
    "    for letter in s:\n",
    "        start_var.append(letter*next(my_iter))\n",
    "    start_var = \"-\".join(start_var).title()\n",
    "    return start_var\n"
   ]
  },
  {
   "cell_type": "code",
   "execution_count": 10,
   "metadata": {},
   "outputs": [
    {
     "data": {
      "text/plain": [
       "'H-Ee-Lll-Llll-Ooooo'"
      ]
     },
     "execution_count": 10,
     "metadata": {},
     "output_type": "execute_result"
    }
   ],
   "source": [
    "accum('Hello')"
   ]
  },
  {
   "cell_type": "code",
   "execution_count": 11,
   "metadata": {},
   "outputs": [],
   "source": [
    "# cleaner solution\n",
    "def accum(s):\n",
    "    return '-'.join(c.upper() + c.lower() * i for i, c in enumerate(s))\n"
   ]
  },
  {
   "cell_type": "markdown",
   "metadata": {},
   "source": [
    "#### Square Every Digit"
   ]
  },
  {
   "cell_type": "code",
   "execution_count": 12,
   "metadata": {},
   "outputs": [],
   "source": [
    "# square every digit of a number and concatenate them"
   ]
  },
  {
   "cell_type": "code",
   "execution_count": 13,
   "metadata": {},
   "outputs": [
    {
     "data": {
      "text/plain": [
       "'\\nFor example:\\nInput: 9119\\nOutput: 811181\\n'"
      ]
     },
     "execution_count": 13,
     "metadata": {},
     "output_type": "execute_result"
    }
   ],
   "source": [
    "'''\n",
    "For example:\n",
    "Input: 9119\n",
    "Output: 811181\n",
    "'''"
   ]
  },
  {
   "cell_type": "code",
   "execution_count": 14,
   "metadata": {},
   "outputs": [],
   "source": [
    "# convert input num to str\n",
    "# iterate through string, square each number\n",
    "# concatenate results to an empty string\n",
    "# return string as an int"
   ]
  },
  {
   "cell_type": "code",
   "execution_count": 15,
   "metadata": {},
   "outputs": [],
   "source": [
    "def square_digits(num):\n",
    "    \n",
    "    # result string to be returned as an int\n",
    "    res_str = \"\"\n",
    "    num = str(num)\n",
    "    for i in num:\n",
    "        i = int(i)\n",
    "        res_str = res_str + str(i**2)\n",
    "    return int(res_str)\n",
    "    "
   ]
  },
  {
   "cell_type": "code",
   "execution_count": 16,
   "metadata": {},
   "outputs": [
    {
     "data": {
      "text/plain": [
       "811181"
      ]
     },
     "execution_count": 16,
     "metadata": {},
     "output_type": "execute_result"
    }
   ],
   "source": [
    "square_digits(9119)"
   ]
  },
  {
   "cell_type": "code",
   "execution_count": 17,
   "metadata": {},
   "outputs": [],
   "source": [
    "# cleaner solution\n",
    "def square_digits(num):\n",
    "    ret = \"\"\n",
    "    for x in str(num):\n",
    "        ret += str(int(x)**2)\n",
    "    return int(ret)\n"
   ]
  },
  {
   "cell_type": "markdown",
   "metadata": {},
   "source": [
    "#### Find the Odd Int"
   ]
  },
  {
   "cell_type": "code",
   "execution_count": 18,
   "metadata": {},
   "outputs": [],
   "source": [
    "# Given an array of integers find the one that appears an odd number of times"
   ]
  },
  {
   "cell_type": "code",
   "execution_count": 19,
   "metadata": {},
   "outputs": [
    {
     "data": {
      "text/plain": [
       "'\\nFor Example:\\nInput: find_it([20,1,-1,2,-2,3,3,5,5,1,2,4,20,4,-1,-2,5])\\nOutput: 5\\n'"
      ]
     },
     "execution_count": 19,
     "metadata": {},
     "output_type": "execute_result"
    }
   ],
   "source": [
    "'''\n",
    "For Example:\n",
    "Input: find_it([20,1,-1,2,-2,3,3,5,5,1,2,4,20,4,-1,-2,5])\n",
    "Output: 5\n",
    "'''"
   ]
  },
  {
   "cell_type": "code",
   "execution_count": 20,
   "metadata": {},
   "outputs": [],
   "source": [
    "x = [20,1,-1,2,-2,3,3,5,5,1,2,4,20,4,-1,-2,5]"
   ]
  },
  {
   "cell_type": "code",
   "execution_count": 21,
   "metadata": {},
   "outputs": [],
   "source": [
    "from collections import Counter\n",
    "def find_it(seq):\n",
    "    count = Counter(seq)\n",
    "    for key, value in count.items():\n",
    "        if value%2 == 1:\n",
    "            return key"
   ]
  },
  {
   "cell_type": "code",
   "execution_count": 22,
   "metadata": {},
   "outputs": [
    {
     "data": {
      "text/plain": [
       "5"
      ]
     },
     "execution_count": 22,
     "metadata": {},
     "output_type": "execute_result"
    }
   ],
   "source": [
    "find_it(x)"
   ]
  },
  {
   "cell_type": "code",
   "execution_count": 23,
   "metadata": {},
   "outputs": [],
   "source": [
    "# cleaner solution\n",
    "def find_it(seq):\n",
    "    for i in seq:\n",
    "        if seq.count(i)%2!=0:\n",
    "            return i"
   ]
  },
  {
   "cell_type": "markdown",
   "metadata": {},
   "source": [
    "#### Are they the \"same\"?"
   ]
  },
  {
   "cell_type": "code",
   "execution_count": 24,
   "metadata": {},
   "outputs": [],
   "source": [
    "# Given two arrays a and b write a function comp(a, b) that checks whether the two arrays have the \"same\" elements, with the same multiplicities.\n",
    "# \"Same\" means, here, that the elements in b are the elements in a squared, regardless of the order."
   ]
  },
  {
   "cell_type": "code",
   "execution_count": 25,
   "metadata": {},
   "outputs": [],
   "source": [
    "# check: for every number in array1, if num**2 in array2 => return True, else return False"
   ]
  },
  {
   "cell_type": "code",
   "execution_count": 26,
   "metadata": {},
   "outputs": [],
   "source": [
    "a = [121, 144, 19, 161, 19, 144, 19, 11]  \n",
    "b = [121, 14641, 20736, 361, 25921, 361, 20736, 361]"
   ]
  },
  {
   "cell_type": "code",
   "execution_count": 27,
   "metadata": {},
   "outputs": [],
   "source": [
    "def comp(array1, array2):\n",
    "    try:\n",
    "        return sorted([i ** 2 for i in array1]) == sorted(array2)\n",
    "    except:\n",
    "        return False\n",
    "    "
   ]
  },
  {
   "cell_type": "code",
   "execution_count": 28,
   "metadata": {},
   "outputs": [
    {
     "data": {
      "text/plain": [
       "True"
      ]
     },
     "execution_count": 28,
     "metadata": {},
     "output_type": "execute_result"
    }
   ],
   "source": [
    "comp(a,b)"
   ]
  },
  {
   "cell_type": "code",
   "execution_count": 29,
   "metadata": {},
   "outputs": [
    {
     "data": {
      "text/plain": [
       "False"
      ]
     },
     "execution_count": 29,
     "metadata": {},
     "output_type": "execute_result"
    }
   ],
   "source": [
    "a = []\n",
    "b = [121, 14641, 20736, 361, 25921, 361, 20736, 361]\n",
    "comp(a,b)"
   ]
  },
  {
   "cell_type": "markdown",
   "metadata": {},
   "source": [
    "#### Exes and Ohs"
   ]
  },
  {
   "cell_type": "code",
   "execution_count": 30,
   "metadata": {},
   "outputs": [],
   "source": [
    "# Check to see if a string has the same amount of 'x's and 'o's"
   ]
  },
  {
   "cell_type": "code",
   "execution_count": 31,
   "metadata": {},
   "outputs": [
    {
     "data": {
      "text/plain": [
       "'\\nFor Example:\\nInput: XO(\"ooxx\")\\nOutput: True\\n'"
      ]
     },
     "execution_count": 31,
     "metadata": {},
     "output_type": "execute_result"
    }
   ],
   "source": [
    "'''\n",
    "For Example:\n",
    "Input: XO(\"ooxx\")\n",
    "Output: True\n",
    "'''"
   ]
  },
  {
   "cell_type": "code",
   "execution_count": 32,
   "metadata": {},
   "outputs": [],
   "source": [
    "def xo(s):\n",
    "    x_num = 0\n",
    "    o_num = 0\n",
    "    for i in s.lower():\n",
    "        if i == 'x':\n",
    "            x_num = x_num + 1\n",
    "        elif i == 'o':\n",
    "            o_num = o_num + 1\n",
    "    return x_num == o_num"
   ]
  },
  {
   "cell_type": "code",
   "execution_count": 33,
   "metadata": {},
   "outputs": [],
   "source": [
    "s = \"ooxx\""
   ]
  },
  {
   "cell_type": "code",
   "execution_count": 34,
   "metadata": {},
   "outputs": [
    {
     "data": {
      "text/plain": [
       "True"
      ]
     },
     "execution_count": 34,
     "metadata": {},
     "output_type": "execute_result"
    }
   ],
   "source": [
    "xo(s)"
   ]
  },
  {
   "cell_type": "code",
   "execution_count": 35,
   "metadata": {},
   "outputs": [],
   "source": [
    "# cleaner solution\n",
    "def xo(s):\n",
    "    s = s.lower()\n",
    "    return s.count('x') == s.count('o')"
   ]
  },
  {
   "cell_type": "markdown",
   "metadata": {},
   "source": [
    "#### Shortest Word"
   ]
  },
  {
   "cell_type": "code",
   "execution_count": 36,
   "metadata": {},
   "outputs": [],
   "source": [
    "# given a string of words, return the length of the shortest word(s)"
   ]
  },
  {
   "cell_type": "code",
   "execution_count": 37,
   "metadata": {},
   "outputs": [
    {
     "data": {
      "text/plain": [
       "'\\nFor Example:\\nInput: \"bitcoin take over the world maybe who knows perhaps\"\\nOutput: 3\\n'"
      ]
     },
     "execution_count": 37,
     "metadata": {},
     "output_type": "execute_result"
    }
   ],
   "source": [
    "'''\n",
    "For Example:\n",
    "Input: \"bitcoin take over the world maybe who knows perhaps\"\n",
    "Output: 3\n",
    "'''"
   ]
  },
  {
   "cell_type": "code",
   "execution_count": 38,
   "metadata": {},
   "outputs": [],
   "source": [
    "s = \"bitcoin take over the world maybe who knows perhaps\""
   ]
  },
  {
   "cell_type": "code",
   "execution_count": 39,
   "metadata": {},
   "outputs": [],
   "source": [
    "def find_short(s):\n",
    "    return min(len(x) for x in s.split())"
   ]
  },
  {
   "cell_type": "code",
   "execution_count": 40,
   "metadata": {
    "scrolled": true
   },
   "outputs": [
    {
     "data": {
      "text/plain": [
       "3"
      ]
     },
     "execution_count": 40,
     "metadata": {},
     "output_type": "execute_result"
    }
   ],
   "source": [
    "find_short(s)"
   ]
  },
  {
   "cell_type": "markdown",
   "metadata": {},
   "source": [
    "#### Isograms"
   ]
  },
  {
   "cell_type": "code",
   "execution_count": 41,
   "metadata": {},
   "outputs": [],
   "source": [
    "# determine whether a string is an isogram"
   ]
  },
  {
   "cell_type": "code",
   "execution_count": 42,
   "metadata": {},
   "outputs": [
    {
     "data": {
      "text/plain": [
       "'\\nFor Example:\\nInput: \"isogram\"\\nOutput: True\\n'"
      ]
     },
     "execution_count": 42,
     "metadata": {},
     "output_type": "execute_result"
    }
   ],
   "source": [
    "'''\n",
    "For Example:\n",
    "Input: \"isogram\"\n",
    "Output: True\n",
    "'''"
   ]
  },
  {
   "cell_type": "code",
   "execution_count": 43,
   "metadata": {},
   "outputs": [],
   "source": [
    "def is_isogram(string):\n",
    "    l = []\n",
    "    for i in string:\n",
    "        if i.lower() not in l:\n",
    "            l.append(i)\n",
    "        else:\n",
    "            return False\n",
    "    return True"
   ]
  },
  {
   "cell_type": "code",
   "execution_count": 44,
   "metadata": {},
   "outputs": [
    {
     "data": {
      "text/plain": [
       "True"
      ]
     },
     "execution_count": 44,
     "metadata": {},
     "output_type": "execute_result"
    }
   ],
   "source": [
    "is_isogram('Dermatoglyphics')"
   ]
  },
  {
   "cell_type": "code",
   "execution_count": 45,
   "metadata": {},
   "outputs": [],
   "source": [
    "# cleaner solution\n",
    "def is_isogram(string):\n",
    "    return len(string) == len(set(string.lower()))"
   ]
  },
  {
   "cell_type": "markdown",
   "metadata": {},
   "source": [
    "#### Multiples of 3 or 5"
   ]
  },
  {
   "cell_type": "code",
   "execution_count": 46,
   "metadata": {},
   "outputs": [],
   "source": [
    "# write a function that returns the sum of all the multples of 3 or 5 below the number passed in"
   ]
  },
  {
   "cell_type": "code",
   "execution_count": 47,
   "metadata": {},
   "outputs": [
    {
     "data": {
      "text/plain": [
       "'\\nFor Example:\\nInput: 10\\nOutput: 23 (3 + 5 + 6 + 9)\\n'"
      ]
     },
     "execution_count": 47,
     "metadata": {},
     "output_type": "execute_result"
    }
   ],
   "source": [
    "'''\n",
    "For Example:\n",
    "Input: 10\n",
    "Output: 23 (3 + 5 + 6 + 9)\n",
    "'''"
   ]
  },
  {
   "cell_type": "code",
   "execution_count": 48,
   "metadata": {},
   "outputs": [],
   "source": [
    "def solution(number):\n",
    "    l = []\n",
    "    if number >= 0:\n",
    "        for num in range(number):\n",
    "            if (num%3==0 or num%5==0) and num not in l:\n",
    "                l.append(num)\n",
    "        return sum(l)\n",
    "    else:\n",
    "        return 0"
   ]
  },
  {
   "cell_type": "code",
   "execution_count": 49,
   "metadata": {},
   "outputs": [
    {
     "data": {
      "text/plain": [
       "23"
      ]
     },
     "execution_count": 49,
     "metadata": {},
     "output_type": "execute_result"
    }
   ],
   "source": [
    "solution(10)"
   ]
  },
  {
   "cell_type": "code",
   "execution_count": 50,
   "metadata": {},
   "outputs": [
    {
     "data": {
      "text/plain": [
       "0"
      ]
     },
     "execution_count": 50,
     "metadata": {},
     "output_type": "execute_result"
    }
   ],
   "source": [
    "solution(-1)"
   ]
  },
  {
   "cell_type": "code",
   "execution_count": 51,
   "metadata": {},
   "outputs": [],
   "source": [
    "# cleaner solution\n",
    "def solution(number):\n",
    "    return sum(x for x in range(number) if x % 3 == 0 or x % 5 == 0)"
   ]
  },
  {
   "cell_type": "markdown",
   "metadata": {},
   "source": [
    "#### Sum of Digits / Digital Root"
   ]
  },
  {
   "cell_type": "code",
   "execution_count": 52,
   "metadata": {},
   "outputs": [],
   "source": [
    "# (1) given n, sum the digits of n\n",
    "# (2) if the sum has more than one digit, repeat step 1"
   ]
  },
  {
   "cell_type": "code",
   "execution_count": 53,
   "metadata": {},
   "outputs": [
    {
     "data": {
      "text/plain": [
       "'\\nFor Example:\\nInput: 132189\\nOutput: (1 + 3 + 2 + 1 + 8 + 9) = 24 --> (2 + 4) = 6\\n'"
      ]
     },
     "execution_count": 53,
     "metadata": {},
     "output_type": "execute_result"
    }
   ],
   "source": [
    "'''\n",
    "For Example:\n",
    "Input: 132189\n",
    "Output: (1 + 3 + 2 + 1 + 8 + 9) = 24 --> (2 + 4) = 6\n",
    "'''"
   ]
  },
  {
   "cell_type": "code",
   "execution_count": 54,
   "metadata": {},
   "outputs": [],
   "source": [
    "def digital_root(n):\n",
    "    while len(str(n)) >= 2:\n",
    "        l = []\n",
    "        for i in str(n):\n",
    "            l.append(int(i))\n",
    "        n = sum(l)\n",
    "    return n"
   ]
  },
  {
   "cell_type": "code",
   "execution_count": 55,
   "metadata": {},
   "outputs": [
    {
     "data": {
      "text/plain": [
       "6"
      ]
     },
     "execution_count": 55,
     "metadata": {},
     "output_type": "execute_result"
    }
   ],
   "source": [
    "digital_root(132189)"
   ]
  },
  {
   "cell_type": "code",
   "execution_count": 56,
   "metadata": {},
   "outputs": [],
   "source": [
    "# cleaner solution\n",
    "def digital_root(n):\n",
    "    while n>9:\n",
    "        n=sum(map(int,str(n)))\n",
    "    return n"
   ]
  },
  {
   "cell_type": "markdown",
   "metadata": {},
   "source": [
    "#### Persistent Bugger"
   ]
  },
  {
   "cell_type": "code",
   "execution_count": 57,
   "metadata": {},
   "outputs": [],
   "source": [
    "# write a function that takes in a number and returns its multiplicative persistence"
   ]
  },
  {
   "cell_type": "code",
   "execution_count": 58,
   "metadata": {},
   "outputs": [
    {
     "data": {
      "text/plain": [
       "'\\nFor Example:\\nInput: 39\\nOutput: 3, since (3*9 = 27, 2*7 = 14, 1*4 = 4)\\n'"
      ]
     },
     "execution_count": 58,
     "metadata": {},
     "output_type": "execute_result"
    }
   ],
   "source": [
    "'''\n",
    "For Example:\n",
    "Input: 39\n",
    "Output: 3, since (3*9 = 27, 2*7 = 14, 1*4 = 4)\n",
    "'''"
   ]
  },
  {
   "cell_type": "code",
   "execution_count": 59,
   "metadata": {},
   "outputs": [],
   "source": [
    "import numpy as np\n",
    "\n",
    "def persistence(n):\n",
    "    iters = 0\n",
    "    while len(str(n)) >= 2:\n",
    "        l = []\n",
    "        for i in str(n):\n",
    "            l.append(int(i))\n",
    "        n = np.prod(l)\n",
    "        iters += 1\n",
    "    return iters"
   ]
  },
  {
   "cell_type": "code",
   "execution_count": 60,
   "metadata": {},
   "outputs": [
    {
     "data": {
      "text/plain": [
       "3"
      ]
     },
     "execution_count": 60,
     "metadata": {},
     "output_type": "execute_result"
    }
   ],
   "source": [
    "persistence(39)"
   ]
  },
  {
   "cell_type": "code",
   "execution_count": 61,
   "metadata": {},
   "outputs": [],
   "source": [
    "# cleaner solution\n",
    "import operator\n",
    "def persistence(n):\n",
    "    i = 0\n",
    "    while n>=10:\n",
    "        n=reduce(operator.mul,[int(x) for x in str(n)],1)\n",
    "        i+=1\n",
    "    return i"
   ]
  },
  {
   "cell_type": "markdown",
   "metadata": {},
   "source": [
    "#### Stop gninnipS My sdroW!"
   ]
  },
  {
   "cell_type": "code",
   "execution_count": 62,
   "metadata": {},
   "outputs": [],
   "source": [
    "# write a function that takes in a string of one or more words and returns the same string,\n",
    "# but with all 5 or more letter words reversed"
   ]
  },
  {
   "cell_type": "code",
   "execution_count": 63,
   "metadata": {},
   "outputs": [
    {
     "data": {
      "text/plain": [
       "'\\nFor Example:\\nInput: \"Hey fellow warriors\"\\nOutput: \"Hey wollef sroirraw\"\\n'"
      ]
     },
     "execution_count": 63,
     "metadata": {},
     "output_type": "execute_result"
    }
   ],
   "source": [
    "'''\n",
    "For Example:\n",
    "Input: \"Hey fellow warriors\"\n",
    "Output: \"Hey wollef sroirraw\"\n",
    "'''"
   ]
  },
  {
   "cell_type": "code",
   "execution_count": 64,
   "metadata": {},
   "outputs": [],
   "source": [
    "def spin_words(sentence):\n",
    "    l = []\n",
    "    for word in sentence.split():\n",
    "        if len(word) >= 5:\n",
    "            word = word[::-1]\n",
    "        l.append(word)\n",
    "    return (\" \").join(l)"
   ]
  },
  {
   "cell_type": "code",
   "execution_count": 65,
   "metadata": {},
   "outputs": [
    {
     "data": {
      "text/plain": [
       "'Hey wollef sroirraw'"
      ]
     },
     "execution_count": 65,
     "metadata": {},
     "output_type": "execute_result"
    }
   ],
   "source": [
    "spin_words(\"Hey fellow warriors\")"
   ]
  },
  {
   "cell_type": "code",
   "execution_count": 66,
   "metadata": {},
   "outputs": [],
   "source": [
    "# cleaner solution\n",
    "def spin_words(sentence):\n",
    "    # Your code goes here\n",
    "    return \" \".join([x[::-1] if len(x) >= 5 else x for x in sentence.split(\" \")])"
   ]
  },
  {
   "cell_type": "code",
   "execution_count": 67,
   "metadata": {},
   "outputs": [],
   "source": [
    "####"
   ]
  },
  {
   "cell_type": "code",
   "execution_count": 68,
   "metadata": {},
   "outputs": [],
   "source": [
    "# write a function that will return the count of distinct case-insensitive characters and digits\n",
    "# that occur more than once in an input string"
   ]
  },
  {
   "cell_type": "code",
   "execution_count": 69,
   "metadata": {},
   "outputs": [
    {
     "data": {
      "text/plain": [
       "'\\nFor Example:\\nInput: \"aabBcde\"\\nOutput: 2, since \"a\" and \"b\" occur more than once (case-insensitive)\\n'"
      ]
     },
     "execution_count": 69,
     "metadata": {},
     "output_type": "execute_result"
    }
   ],
   "source": [
    "'''\n",
    "For Example:\n",
    "Input: \"aabBcde\"\n",
    "Output: 2, since \"a\" and \"b\" occur more than once (case-insensitive)\n",
    "'''"
   ]
  },
  {
   "cell_type": "code",
   "execution_count": 70,
   "metadata": {},
   "outputs": [],
   "source": [
    "from collections import Counter\n",
    "def duplicate_count(text):\n",
    "    tot = 0\n",
    "    count = Counter(text.lower())\n",
    "    for k, v in count.items():\n",
    "        if v >= 2:\n",
    "            tot += 1\n",
    "    return tot"
   ]
  },
  {
   "cell_type": "code",
   "execution_count": 71,
   "metadata": {},
   "outputs": [
    {
     "data": {
      "text/plain": [
       "2"
      ]
     },
     "execution_count": 71,
     "metadata": {},
     "output_type": "execute_result"
    }
   ],
   "source": [
    "duplicate_count(\"aabBcde\")"
   ]
  },
  {
   "cell_type": "code",
   "execution_count": 72,
   "metadata": {},
   "outputs": [],
   "source": [
    "# cleaner solution\n",
    "def duplicate_count(s):\n",
    "    return len([c for c in set(s.lower()) if s.lower().count(c)>1])"
   ]
  },
  {
   "cell_type": "code",
   "execution_count": 73,
   "metadata": {},
   "outputs": [],
   "source": [
    "####"
   ]
  },
  {
   "cell_type": "code",
   "execution_count": 74,
   "metadata": {},
   "outputs": [],
   "source": [
    "# given an array of only even or odd integers (except for a single integer N),\n",
    "# write a function that returns the \"outlier\" N"
   ]
  },
  {
   "cell_type": "code",
   "execution_count": 75,
   "metadata": {},
   "outputs": [
    {
     "data": {
      "text/plain": [
       "'\\nFor Example:\\nInput: [2, 4, 0, 100, 4, 11, 2602, 36]\\nOutput: 11 (the only odd number)\\n'"
      ]
     },
     "execution_count": 75,
     "metadata": {},
     "output_type": "execute_result"
    }
   ],
   "source": [
    "'''\n",
    "For Example:\n",
    "Input: [2, 4, 0, 100, 4, 11, 2602, 36]\n",
    "Output: 11 (the only odd number)\n",
    "'''"
   ]
  },
  {
   "cell_type": "code",
   "execution_count": 76,
   "metadata": {},
   "outputs": [],
   "source": [
    "def find_outlier(integers):\n",
    "    e = []\n",
    "    o = []\n",
    "    for i in integers:\n",
    "        if i%2 == 0:\n",
    "            e.append(i)\n",
    "        elif i%2 == 1:\n",
    "            o.append(i)\n",
    "    if len(e) == 1:\n",
    "        return(e[0])\n",
    "    elif len(o) == 1:\n",
    "        return(o[0])"
   ]
  },
  {
   "cell_type": "code",
   "execution_count": 77,
   "metadata": {},
   "outputs": [
    {
     "data": {
      "text/plain": [
       "11"
      ]
     },
     "execution_count": 77,
     "metadata": {},
     "output_type": "execute_result"
    }
   ],
   "source": [
    "find_outlier([2, 4, 0, 100, 4, 11, 2602, 36])"
   ]
  },
  {
   "cell_type": "code",
   "execution_count": 78,
   "metadata": {},
   "outputs": [],
   "source": [
    "# cleaner solution\n",
    "def find_outlier(int):\n",
    "    odds = [x for x in int if x%2!=0]\n",
    "    evens= [x for x in int if x%2==0]\n",
    "    return odds[0] if len(odds)<len(evens) else evens[0]"
   ]
  },
  {
   "cell_type": "code",
   "execution_count": 79,
   "metadata": {},
   "outputs": [],
   "source": [
    "###"
   ]
  },
  {
   "cell_type": "markdown",
   "metadata": {},
   "source": [
    "#### Who likes it?"
   ]
  },
  {
   "cell_type": "code",
   "execution_count": 80,
   "metadata": {},
   "outputs": [],
   "source": [
    "# create a function that takes in an array and returns the names of people who like an item"
   ]
  },
  {
   "cell_type": "code",
   "execution_count": 81,
   "metadata": {},
   "outputs": [
    {
     "data": {
      "text/plain": [
       "'\\nFor Example:\\nInput 1: [\"Jacob\", \"Alex\"]\\nOutput: \"Jacob and Alex like this\"\\nInput 2: [\"Max\", \"John\", \"Mark\"]\\nOutput: \"Max, John and Mark like this\"\\nInput 3: [\"Alex\", \"Jacob\", \"Mark\", \"Max\"]\\nOutput: \"Alex, Jacob and 2 others like this\"\\n'"
      ]
     },
     "execution_count": 81,
     "metadata": {},
     "output_type": "execute_result"
    }
   ],
   "source": [
    "'''\n",
    "For Example:\n",
    "Input 1: [\"Jacob\", \"Alex\"]\n",
    "Output: \"Jacob and Alex like this\"\n",
    "Input 2: [\"Max\", \"John\", \"Mark\"]\n",
    "Output: \"Max, John and Mark like this\"\n",
    "Input 3: [\"Alex\", \"Jacob\", \"Mark\", \"Max\"]\n",
    "Output: \"Alex, Jacob and 2 others like this\"\n",
    "'''"
   ]
  },
  {
   "cell_type": "code",
   "execution_count": 82,
   "metadata": {},
   "outputs": [],
   "source": [
    "def likes(names):\n",
    "    s = \"\"\n",
    "    if len(names) == 0:\n",
    "        return(\"no one likes this\")\n",
    "    elif len(names) == 1:\n",
    "        s = names[0]\n",
    "        return(s + \" \" + \"likes this\")\n",
    "    elif len(names) == 2:\n",
    "        s = names[0] + \" and \" + names[1]\n",
    "        return(s + \" \" + \"like this\")\n",
    "    elif len(names) == 3:\n",
    "        s = names[0] + \", \" + names[1] + \" and \" + names[2]\n",
    "        return(s + \" \" + \"like this\")\n",
    "    else:\n",
    "        s = names[0] + \", \" + names[1] + \" and \" + str(len(names)-2) + \" others like this\"\n",
    "        return(s)"
   ]
  },
  {
   "cell_type": "code",
   "execution_count": 83,
   "metadata": {
    "scrolled": true
   },
   "outputs": [
    {
     "data": {
      "text/plain": [
       "'Alex, Jacob and 2 others like this'"
      ]
     },
     "execution_count": 83,
     "metadata": {},
     "output_type": "execute_result"
    }
   ],
   "source": [
    "likes([\"Alex\", \"Jacob\", \"Mark\", \"Max\"])"
   ]
  },
  {
   "cell_type": "code",
   "execution_count": 84,
   "metadata": {},
   "outputs": [],
   "source": [
    "# cleaner solution\n",
    "def likes(names):\n",
    "    n = len(names)\n",
    "    return {\n",
    "        0: 'no one likes this',\n",
    "        1: '{} likes this', \n",
    "        2: '{} and {} like this', \n",
    "        3: '{}, {} and {} like this', \n",
    "        4: '{}, {} and {others} others like this'\n",
    "    }[min(4, n)].format(*names[:3], others=n-2)"
   ]
  },
  {
   "cell_type": "markdown",
   "metadata": {},
   "source": [
    "#### Duplicate Encoder"
   ]
  },
  {
   "cell_type": "code",
   "execution_count": 85,
   "metadata": {},
   "outputs": [],
   "source": [
    "# create a function to convert a string to a new string where each character in the new string\n",
    "# is \"(\" if that character appears only once in the original string,\n",
    "# or \")\" if that character appears more than once in the original string"
   ]
  },
  {
   "cell_type": "code",
   "execution_count": 86,
   "metadata": {},
   "outputs": [
    {
     "data": {
      "text/plain": [
       "'\\nFor Example:\\nInput: \"Success\"\\nOutput: \")())())\"\\n'"
      ]
     },
     "execution_count": 86,
     "metadata": {},
     "output_type": "execute_result"
    }
   ],
   "source": [
    "'''\n",
    "For Example:\n",
    "Input: \"Success\"\n",
    "Output: \")())())\"\n",
    "'''"
   ]
  },
  {
   "cell_type": "code",
   "execution_count": 87,
   "metadata": {},
   "outputs": [],
   "source": [
    "def duplicate_encode(word):\n",
    "    pass"
   ]
  },
  {
   "cell_type": "code",
   "execution_count": 88,
   "metadata": {},
   "outputs": [],
   "source": [
    "word = \"Success\""
   ]
  },
  {
   "cell_type": "code",
   "execution_count": 89,
   "metadata": {},
   "outputs": [
    {
     "data": {
      "text/plain": [
       "Counter({'s': 3, 'u': 1, 'c': 2, 'e': 1})"
      ]
     },
     "execution_count": 89,
     "metadata": {},
     "output_type": "execute_result"
    }
   ],
   "source": [
    "from collections import Counter\n",
    "Counter(word.lower())"
   ]
  },
  {
   "cell_type": "code",
   "execution_count": 90,
   "metadata": {},
   "outputs": [],
   "source": [
    "from collections import Counter\n",
    "def duplicate_encode(word):\n",
    "    l = []\n",
    "    s = []\n",
    "    my_dict = {}\n",
    "    x = Counter(word.lower())\n",
    "    for k,v in x.items():\n",
    "        l.append(k*v)\n",
    "#     return l\n",
    "    for i in l:\n",
    "        if len(i) > 1:\n",
    "            my_dict[i] = ')'\n",
    "        else:\n",
    "            my_dict[i] = '('\n",
    "    return my_dict\n",
    "        \n",
    "#     return my_dict\n",
    "#     for i in l:\n",
    "#             s.append(i[0] + \":\" + len(i)*\"*\")\n",
    "#     return (\",\".join(s))"
   ]
  },
  {
   "cell_type": "code",
   "execution_count": 91,
   "metadata": {},
   "outputs": [
    {
     "data": {
      "text/plain": [
       "{'sss': ')', 'u': '(', 'cc': ')', 'e': '('}"
      ]
     },
     "execution_count": 91,
     "metadata": {},
     "output_type": "execute_result"
    }
   ],
   "source": [
    "duplicate_encode(word)"
   ]
  },
  {
   "cell_type": "code",
   "execution_count": 92,
   "metadata": {},
   "outputs": [],
   "source": [
    "from collections import Counter\n",
    "def duplicate_encode(word):\n",
    "    my_dict = {}\n",
    "    word = word.lower()\n",
    "    x = Counter(word)\n",
    "    s = \"\"\n",
    "    for k,v in x.items():\n",
    "        if v > 1:\n",
    "            my_dict[k] = ')'\n",
    "        else:\n",
    "            my_dict[k] = '('\n",
    "#     return my_dict.items()\n",
    "    return(\"\".join(my_dict.values()))\n",
    "#     for i in word:\n",
    "#         if i in my_dict.keys():\n",
    "#             word = word.replace(i, my_dict.values())\n",
    "#     print(word)"
   ]
  },
  {
   "cell_type": "code",
   "execution_count": 93,
   "metadata": {},
   "outputs": [],
   "source": [
    "from collections import Counter\n",
    "def duplicate_encode(word):\n",
    "    my_dict = {}\n",
    "    l = []\n",
    "    x = Counter(word.lower())\n",
    "    for k,v in x.items():\n",
    "        if v > 1:\n",
    "            my_dict[k] = ')'\n",
    "        else:\n",
    "            my_dict[k] = '('\n",
    "    for i in word.lower():\n",
    "        l.append(my_dict.get(i, i))\n",
    "    l = \"\".join(l)\n",
    "    return(l)"
   ]
  },
  {
   "cell_type": "code",
   "execution_count": 94,
   "metadata": {},
   "outputs": [
    {
     "data": {
      "text/plain": [
       "')())())'"
      ]
     },
     "execution_count": 94,
     "metadata": {},
     "output_type": "execute_result"
    }
   ],
   "source": [
    "duplicate_encode(\"Success\")"
   ]
  },
  {
   "cell_type": "code",
   "execution_count": 95,
   "metadata": {},
   "outputs": [
    {
     "data": {
      "text/plain": [
       "')))(()))((())((()(()())(()((('"
      ]
     },
     "execution_count": 95,
     "metadata": {},
     "output_type": "execute_result"
    }
   ],
   "source": [
    "duplicate_encode(\"vvn(wJnnmySJczGTvxdcall@!nH)b\")"
   ]
  },
  {
   "cell_type": "code",
   "execution_count": 96,
   "metadata": {},
   "outputs": [],
   "source": [
    "# cleaner solution\n",
    "from collections import Counter\n",
    "def duplicate_encode(word):\n",
    "    word = word.lower()\n",
    "    counter = Counter(word)\n",
    "    return ''.join(('(' if counter[c] == 1 else ')') for c in word)\n",
    "\n",
    "# cleaner solution\n",
    "def duplicate_encode(word):\n",
    "    return \"\".join([\"(\" if word.lower().count(c) == 1 else \")\" for c in word.lower()])"
   ]
  },
  {
   "cell_type": "markdown",
   "metadata": {},
   "source": [
    "#### Interview Question"
   ]
  },
  {
   "cell_type": "code",
   "execution_count": 97,
   "metadata": {},
   "outputs": [],
   "source": [
    "# write a function that returns a string with an asterik for each time a letter shows up"
   ]
  },
  {
   "cell_type": "code",
   "execution_count": 98,
   "metadata": {},
   "outputs": [
    {
     "data": {
      "text/plain": [
       "'\\nFor Example:\\nInput: \"Chicago\"\\nOutput: \"c:**,h:*,i:*,a:*,g:*,o:*\"\\n'"
      ]
     },
     "execution_count": 98,
     "metadata": {},
     "output_type": "execute_result"
    }
   ],
   "source": [
    "'''\n",
    "For Example:\n",
    "Input: \"Chicago\"\n",
    "Output: \"c:**,h:*,i:*,a:*,g:*,o:*\"\n",
    "'''"
   ]
  },
  {
   "cell_type": "code",
   "execution_count": 99,
   "metadata": {},
   "outputs": [],
   "source": [
    "from collections import Counter\n",
    "def get_strings(city):\n",
    "    l = []\n",
    "    s = []\n",
    "    x = Counter(city.lower())\n",
    "    for k,v in x.items():\n",
    "        if k != \" \":\n",
    "            l.append(k*v)\n",
    "    for i in l:\n",
    "            s.append(i[0] + \":\" + len(i)*\"*\")\n",
    "    return (\",\".join(s))"
   ]
  },
  {
   "cell_type": "code",
   "execution_count": 100,
   "metadata": {},
   "outputs": [
    {
     "data": {
      "text/plain": [
       "'c:**,h:*,i:*,a:*,g:*,o:*'"
      ]
     },
     "execution_count": 100,
     "metadata": {},
     "output_type": "execute_result"
    }
   ],
   "source": [
    "get_strings(\"Chicago\")"
   ]
  },
  {
   "cell_type": "code",
   "execution_count": 101,
   "metadata": {},
   "outputs": [],
   "source": [
    "# cleaner solution\n",
    "from collections import Counter\n",
    "def get_strings(city):\n",
    "    return \",\".join(f\"{char}:{'*'*count}\" for char, count in Counter(city.replace(\" \", \"\").lower()).items())"
   ]
  },
  {
   "cell_type": "markdown",
   "metadata": {},
   "source": [
    "#### Take a Ten Minute Walk"
   ]
  },
  {
   "cell_type": "code",
   "execution_count": 102,
   "metadata": {},
   "outputs": [
    {
     "data": {
      "text/plain": [
       "\"\\nFor Example:\\nInput1: ['n','s','n','s','n','s','n','s','n','s']\\nOutput: True\\nInput2: 'w','e','w','e','w','e','w','e','w','e','w','e'\\nOutput False\\n\""
      ]
     },
     "execution_count": 102,
     "metadata": {},
     "output_type": "execute_result"
    }
   ],
   "source": [
    "'''\n",
    "For Example:\n",
    "Input1: ['n','s','n','s','n','s','n','s','n','s']\n",
    "Output: True\n",
    "Input2: 'w','e','w','e','w','e','w','e','w','e','w','e'\n",
    "Output False\n",
    "'''"
   ]
  },
  {
   "cell_type": "code",
   "execution_count": 103,
   "metadata": {},
   "outputs": [],
   "source": [
    "def is_valid_walk(walk):\n",
    "    x,y = (0,0)\n",
    "    l = []\n",
    "    if len(walk) != 10:\n",
    "        print(False)\n",
    "    else:\n",
    "        for i in walk:\n",
    "            l.append(i)\n",
    "        for i in l:\n",
    "            if i == 'n':\n",
    "                x += 1\n",
    "            elif i == 's':\n",
    "                x -= 1\n",
    "            elif i == 'e':\n",
    "                y += 1\n",
    "            elif i == 'w':\n",
    "                y -= 1\n",
    "        print(x==0 and y ==0)"
   ]
  },
  {
   "cell_type": "code",
   "execution_count": 104,
   "metadata": {},
   "outputs": [
    {
     "name": "stdout",
     "output_type": "stream",
     "text": [
      "True\n"
     ]
    }
   ],
   "source": [
    "is_valid_walk(['n','s','n','s','n','s','n','s','n','s'])"
   ]
  },
  {
   "cell_type": "code",
   "execution_count": 105,
   "metadata": {},
   "outputs": [
    {
     "name": "stdout",
     "output_type": "stream",
     "text": [
      "False\n"
     ]
    }
   ],
   "source": [
    "is_valid_walk(['s', 'e', 'w', 'n', 'n', 's', 'e', 's', 'n', 's'])"
   ]
  },
  {
   "cell_type": "code",
   "execution_count": 106,
   "metadata": {},
   "outputs": [],
   "source": [
    "# cleaner solution\n",
    "def isValidWalk(walk):\n",
    "    return len(walk) == 10 and walk.count('n') == walk.count('s') and walk.count('e') == walk.count('w')"
   ]
  },
  {
   "cell_type": "markdown",
   "metadata": {},
   "source": [
    "#### Detect Pangram"
   ]
  },
  {
   "cell_type": "code",
   "execution_count": 107,
   "metadata": {},
   "outputs": [],
   "source": [
    "# given a string, detect whether it is a pangram or not"
   ]
  },
  {
   "cell_type": "code",
   "execution_count": 108,
   "metadata": {},
   "outputs": [],
   "source": [
    "import string\n",
    "\n",
    "def is_pangram(s):\n",
    "    for i in string.ascii_lowercase:\n",
    "        if i in s.lower():\n",
    "            pass\n",
    "        else:\n",
    "            return False\n",
    "    return True"
   ]
  },
  {
   "cell_type": "code",
   "execution_count": 109,
   "metadata": {},
   "outputs": [
    {
     "data": {
      "text/plain": [
       "True"
      ]
     },
     "execution_count": 109,
     "metadata": {},
     "output_type": "execute_result"
    }
   ],
   "source": [
    "is_pangram(\"The quick, brown fox jumps over the lazy dog!\")"
   ]
  },
  {
   "cell_type": "markdown",
   "metadata": {},
   "source": [
    "#### Calculating with Functions"
   ]
  },
  {
   "cell_type": "code",
   "execution_count": null,
   "metadata": {},
   "outputs": [],
   "source": []
  },
  {
   "cell_type": "code",
   "execution_count": null,
   "metadata": {},
   "outputs": [],
   "source": []
  },
  {
   "cell_type": "code",
   "execution_count": null,
   "metadata": {},
   "outputs": [],
   "source": []
  },
  {
   "cell_type": "code",
   "execution_count": null,
   "metadata": {},
   "outputs": [],
   "source": []
  },
  {
   "cell_type": "code",
   "execution_count": null,
   "metadata": {},
   "outputs": [],
   "source": []
  },
  {
   "cell_type": "code",
   "execution_count": null,
   "metadata": {},
   "outputs": [],
   "source": []
  },
  {
   "cell_type": "code",
   "execution_count": null,
   "metadata": {},
   "outputs": [],
   "source": []
  },
  {
   "cell_type": "code",
   "execution_count": null,
   "metadata": {},
   "outputs": [],
   "source": []
  }
 ],
 "metadata": {
  "kernelspec": {
   "display_name": "Python 3",
   "language": "python",
   "name": "python3"
  },
  "language_info": {
   "codemirror_mode": {
    "name": "ipython",
    "version": 3
   },
   "file_extension": ".py",
   "mimetype": "text/x-python",
   "name": "python",
   "nbconvert_exporter": "python",
   "pygments_lexer": "ipython3",
   "version": "3.8.5"
  }
 },
 "nbformat": 4,
 "nbformat_minor": 4
}
