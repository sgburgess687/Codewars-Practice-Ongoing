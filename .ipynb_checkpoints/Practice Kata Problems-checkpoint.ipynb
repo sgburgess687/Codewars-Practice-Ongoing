{
 "cells": [
  {
   "cell_type": "markdown",
   "metadata": {},
   "source": [
    "### Ongoing Notebook for Practicing Codewars Problems\n",
    "This notebook is for holding Codewars practice problems, solutions, and scratchwork. I intend to document my problems here in order to retain the logic from problem to problem. In the beginning, these will mostly be low-ranked kata problems, but I intend to increase the difficulty over time."
   ]
  },
  {
   "cell_type": "code",
   "execution_count": null,
   "metadata": {},
   "outputs": [],
   "source": []
  }
 ],
 "metadata": {
  "kernelspec": {
   "display_name": "Python 3",
   "language": "python",
   "name": "python3"
  },
  "language_info": {
   "codemirror_mode": {
    "name": "ipython",
    "version": 3
   },
   "file_extension": ".py",
   "mimetype": "text/x-python",
   "name": "python",
   "nbconvert_exporter": "python",
   "pygments_lexer": "ipython3",
   "version": "3.8.5"
  }
 },
 "nbformat": 4,
 "nbformat_minor": 4
}
